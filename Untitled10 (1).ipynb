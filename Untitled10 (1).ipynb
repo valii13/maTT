{
 "cells": [
  {
   "cell_type": "code",
   "execution_count": 25,
   "id": "a4773258-bcfd-40ea-9877-589365e3f79a",
   "metadata": {},
   "outputs": [
    {
     "name": "stdout",
     "output_type": "stream",
     "text": [
      "hi baby \n",
      "how are you today maT?\n",
      "i misss you Boyyy\n",
      "nothing much maT i just wanted to tell you how much i love you boy\n",
      "i know i took a while mara its kinda hard to do this yhoo\n",
      "do you even love me?\n"
     ]
    },
    {
     "name": "stdin",
     "output_type": "stream",
     "text": [
      "Do you love me naa?(yes or no): yes\n"
     ]
    },
    {
     "name": "stdout",
     "output_type": "stream",
     "text": [
      "Aww, i love you More!\n",
      "akuna swak tala futhi b, wanhloko\n"
     ]
    }
   ],
   "source": [
    "import time\n",
    "\n",
    "print(\"hi baby \", flush=True)\n",
    "time.sleep(2)\n",
    "print(\"how are you today maT?\", flush=True)\n",
    "time.sleep(2)\n",
    "print(\"i misss you Boyyy\")\n",
    "time.sleep(2)\n",
    "print(\"nothing much maT i just wanted to tell you how much i love you boy\")\n",
    "time.sleep(2)\n",
    "print(\"i know i took a while mara its kinda hard to do this yhoo\")\n",
    "time.sleep(2)\n",
    "print(\"do you even love me?\")\n",
    "time.sleep(2.5)\n",
    "\n",
    "answer = input(\"Do you love me naa?(yes or no):\")\n",
    "if answer.lower() == \"yes\":\n",
    "    print(\"Aww, i love you More!\")\n",
    "elif answer.lower() == \"no\":\n",
    "    print(\"oh haa okay, ikhale niswi vonaaaa!\")\n",
    "else:\n",
    "    print(\"i dont understand that but i still love you\")\n",
    "time.sleep(3)\n",
    "print(\"akuna swak tala futhi b, wanhloko\")"
   ]
  },
  {
   "cell_type": "code",
   "execution_count": null,
   "id": "8da3b132-2f86-4f39-a0a0-cbbcf014823f",
   "metadata": {},
   "outputs": [],
   "source": []
  },
  {
   "cell_type": "code",
   "execution_count": null,
   "id": "637f6126-c952-4782-8164-a43c1ce4f61e",
   "metadata": {},
   "outputs": [],
   "source": []
  }
 ],
 "metadata": {
  "kernelspec": {
   "display_name": "anaconda-ai-2024.04-py310",
   "language": "python",
   "name": "conda-env-anaconda-ai-2024.04-py310-py"
  },
  "language_info": {
   "codemirror_mode": {
    "name": "ipython",
    "version": 3
   },
   "file_extension": ".py",
   "mimetype": "text/x-python",
   "name": "python",
   "nbconvert_exporter": "python",
   "pygments_lexer": "ipython3",
   "version": "3.10.13"
  }
 },
 "nbformat": 4,
 "nbformat_minor": 5
}
